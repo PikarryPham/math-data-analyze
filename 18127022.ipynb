{
  "nbformat": 4,
  "nbformat_minor": 0,
  "metadata": {
    "kernelspec": {
      "display_name": "Python 3",
      "language": "python",
      "name": "python3"
    },
    "language_info": {
      "codemirror_mode": {
        "name": "ipython",
        "version": 3
      },
      "file_extension": ".py",
      "mimetype": "text/x-python",
      "name": "python",
      "nbconvert_exporter": "python",
      "pygments_lexer": "ipython3",
      "version": "3.8.3"
    },
    "toc-autonumbering": false,
    "colab": {
      "name": "lab04 _ 2.ipynb",
      "provenance": [],
      "collapsed_sections": [],
      "toc_visible": true
    }
  },
  "cells": [
    {
      "cell_type": "markdown",
      "metadata": {
        "id": "l0hI8xyqHNNn",
        "colab_type": "text"
      },
      "source": [
        "## Đồ án 3: Linear regression <a class=\"anchor\" id=\"c2\"></a>"
      ]
    },
    {
      "cell_type": "markdown",
      "metadata": {
        "id": "mTnq7D6iHNNn",
        "colab_type": "text"
      },
      "source": [
        "### Nội dung đồ án <a class=\"anchor\" id=\"c21\"></a>"
      ]
    },
    {
      "cell_type": "markdown",
      "metadata": {
        "id": "reKsNe0VHNNo",
        "colab_type": "text"
      },
      "source": [
        "File **\"wine.csv\"** là cơ sở dữ liệu đánh giá chất lượng của 1200 chai rượu vang theo thang điểm 1 - 10 dựa trên 11 tính chất khác nhau. "
      ]
    },
    {
      "cell_type": "markdown",
      "metadata": {
        "id": "cRwh3PsFHNNs",
        "colab_type": "text"
      },
      "source": [
        "Xây dựng mô hình đánh giá chất lượng rượu sử dụng phương pháp hồi quy tuyến tính.\n",
        "\n",
        "\ta. Sử dụng toàn bộ 11 đặc trưng đề bài cung cấp.\n",
        "    \n",
        "\tb. Sử dụng duy nhất 1 đặc trưng cho kết quả tốt nhất. (Gợi ý: Phương pháp Cross Validation)\n",
        "    \n",
        "\tc. Xây dựng một mô hình của riêng bạn cho kết quả tốt nhất."
      ]
    },
    {
      "cell_type": "code",
      "metadata": {
        "id": "Og11v-rEMoZq",
        "colab_type": "code",
        "colab": {
          "base_uri": "https://localhost:8080/",
          "height": 72
        },
        "outputId": "f8adc6a1-b424-4f08-cdd2-63ab1134be51"
      },
      "source": [
        "random_state = 42\n",
        "import numpy as np\n",
        "import random\n",
        "np.random.seed(random_state)\n",
        "random.seed(random_state)\n",
        "import matplotlib\n",
        "from matplotlib import pyplot as plt\n",
        "import seaborn as sns"
      ],
      "execution_count": 1,
      "outputs": [
        {
          "output_type": "stream",
          "text": [
            "/usr/local/lib/python3.6/dist-packages/statsmodels/tools/_testing.py:19: FutureWarning: pandas.util.testing is deprecated. Use the functions in the public API at pandas.testing instead.\n",
            "  import pandas.util.testing as tm\n"
          ],
          "name": "stderr"
        }
      ]
    },
    {
      "cell_type": "code",
      "metadata": {
        "id": "TMt13RFfH8zP",
        "colab_type": "code",
        "colab": {}
      },
      "source": [
        "# Đọc đường dẫn ảnh từ google drive\n",
        "path_data ='wine.csv'"
      ],
      "execution_count": 2,
      "outputs": []
    },
    {
      "cell_type": "code",
      "metadata": {
        "id": "XKP65uRmHNNu",
        "colab_type": "code",
        "colab": {
          "base_uri": "https://localhost:8080/",
          "height": 158
        },
        "outputId": "453301cc-7cdc-44d1-8dd7-45f4a6fb7c70"
      },
      "source": [
        "import pandas as pd\n",
        "df = pd.read_csv(path_data, sep=';')\n",
        "print(df.head())"
      ],
      "execution_count": 3,
      "outputs": [
        {
          "output_type": "stream",
          "text": [
            "   fixed acidity  volatile acidity  citric acid  ...  sulphates  alcohol  quality\n",
            "0            7.4              0.70         0.00  ...       0.56      9.4        5\n",
            "1            7.8              0.88         0.00  ...       0.68      9.8        5\n",
            "2            7.8              0.76         0.04  ...       0.65      9.8        5\n",
            "3           11.2              0.28         0.56  ...       0.58      9.8        6\n",
            "4            7.4              0.70         0.00  ...       0.56      9.4        5\n",
            "\n",
            "[5 rows x 12 columns]\n"
          ],
          "name": "stdout"
        }
      ]
    },
    {
      "cell_type": "code",
      "metadata": {
        "id": "IvgErZxSNdKV",
        "colab_type": "code",
        "colab": {
          "base_uri": "https://localhost:8080/",
          "height": 338
        },
        "outputId": "26949e8a-7368-4ee4-b24d-95b8f89a900b"
      },
      "source": [
        "# Hiển thị 1 số thông tin về dữ liệu\n",
        "df.describe()"
      ],
      "execution_count": 4,
      "outputs": [
        {
          "output_type": "execute_result",
          "data": {
            "text/html": [
              "<div>\n",
              "<style scoped>\n",
              "    .dataframe tbody tr th:only-of-type {\n",
              "        vertical-align: middle;\n",
              "    }\n",
              "\n",
              "    .dataframe tbody tr th {\n",
              "        vertical-align: top;\n",
              "    }\n",
              "\n",
              "    .dataframe thead th {\n",
              "        text-align: right;\n",
              "    }\n",
              "</style>\n",
              "<table border=\"1\" class=\"dataframe\">\n",
              "  <thead>\n",
              "    <tr style=\"text-align: right;\">\n",
              "      <th></th>\n",
              "      <th>fixed acidity</th>\n",
              "      <th>volatile acidity</th>\n",
              "      <th>citric acid</th>\n",
              "      <th>residual sugar</th>\n",
              "      <th>chlorides</th>\n",
              "      <th>free sulfur dioxide</th>\n",
              "      <th>total sulfur dioxide</th>\n",
              "      <th>density</th>\n",
              "      <th>pH</th>\n",
              "      <th>sulphates</th>\n",
              "      <th>alcohol</th>\n",
              "      <th>quality</th>\n",
              "    </tr>\n",
              "  </thead>\n",
              "  <tbody>\n",
              "    <tr>\n",
              "      <th>count</th>\n",
              "      <td>1199.000000</td>\n",
              "      <td>1199.000000</td>\n",
              "      <td>1199.000000</td>\n",
              "      <td>1199.000000</td>\n",
              "      <td>1199.000000</td>\n",
              "      <td>1199.000000</td>\n",
              "      <td>1199.000000</td>\n",
              "      <td>1199.000000</td>\n",
              "      <td>1199.000000</td>\n",
              "      <td>1199.000000</td>\n",
              "      <td>1199.000000</td>\n",
              "      <td>1199.000000</td>\n",
              "    </tr>\n",
              "    <tr>\n",
              "      <th>mean</th>\n",
              "      <td>8.625271</td>\n",
              "      <td>0.519133</td>\n",
              "      <td>0.293353</td>\n",
              "      <td>2.564470</td>\n",
              "      <td>0.089266</td>\n",
              "      <td>15.242702</td>\n",
              "      <td>46.884070</td>\n",
              "      <td>0.997059</td>\n",
              "      <td>3.298582</td>\n",
              "      <td>0.665738</td>\n",
              "      <td>10.383069</td>\n",
              "      <td>5.664721</td>\n",
              "    </tr>\n",
              "    <tr>\n",
              "      <th>std</th>\n",
              "      <td>1.781795</td>\n",
              "      <td>0.179208</td>\n",
              "      <td>0.196751</td>\n",
              "      <td>1.264441</td>\n",
              "      <td>0.048310</td>\n",
              "      <td>10.210406</td>\n",
              "      <td>33.949177</td>\n",
              "      <td>0.001878</td>\n",
              "      <td>0.156161</td>\n",
              "      <td>0.175921</td>\n",
              "      <td>1.091891</td>\n",
              "      <td>0.809593</td>\n",
              "    </tr>\n",
              "    <tr>\n",
              "      <th>min</th>\n",
              "      <td>4.600000</td>\n",
              "      <td>0.120000</td>\n",
              "      <td>0.000000</td>\n",
              "      <td>0.900000</td>\n",
              "      <td>0.012000</td>\n",
              "      <td>1.000000</td>\n",
              "      <td>6.000000</td>\n",
              "      <td>0.990070</td>\n",
              "      <td>2.740000</td>\n",
              "      <td>0.330000</td>\n",
              "      <td>8.400000</td>\n",
              "      <td>3.000000</td>\n",
              "    </tr>\n",
              "    <tr>\n",
              "      <th>25%</th>\n",
              "      <td>7.300000</td>\n",
              "      <td>0.390000</td>\n",
              "      <td>0.120000</td>\n",
              "      <td>1.900000</td>\n",
              "      <td>0.071000</td>\n",
              "      <td>7.000000</td>\n",
              "      <td>21.000000</td>\n",
              "      <td>0.996000</td>\n",
              "      <td>3.195000</td>\n",
              "      <td>0.560000</td>\n",
              "      <td>9.500000</td>\n",
              "      <td>5.000000</td>\n",
              "    </tr>\n",
              "    <tr>\n",
              "      <th>50%</th>\n",
              "      <td>8.300000</td>\n",
              "      <td>0.500000</td>\n",
              "      <td>0.290000</td>\n",
              "      <td>2.200000</td>\n",
              "      <td>0.080000</td>\n",
              "      <td>13.000000</td>\n",
              "      <td>38.000000</td>\n",
              "      <td>0.997020</td>\n",
              "      <td>3.300000</td>\n",
              "      <td>0.620000</td>\n",
              "      <td>10.000000</td>\n",
              "      <td>6.000000</td>\n",
              "    </tr>\n",
              "    <tr>\n",
              "      <th>75%</th>\n",
              "      <td>9.600000</td>\n",
              "      <td>0.630000</td>\n",
              "      <td>0.450000</td>\n",
              "      <td>2.700000</td>\n",
              "      <td>0.092000</td>\n",
              "      <td>21.000000</td>\n",
              "      <td>63.000000</td>\n",
              "      <td>0.998175</td>\n",
              "      <td>3.390000</td>\n",
              "      <td>0.735000</td>\n",
              "      <td>11.000000</td>\n",
              "      <td>6.000000</td>\n",
              "    </tr>\n",
              "    <tr>\n",
              "      <th>max</th>\n",
              "      <td>15.900000</td>\n",
              "      <td>1.330000</td>\n",
              "      <td>1.000000</td>\n",
              "      <td>15.500000</td>\n",
              "      <td>0.611000</td>\n",
              "      <td>68.000000</td>\n",
              "      <td>289.000000</td>\n",
              "      <td>1.003200</td>\n",
              "      <td>3.900000</td>\n",
              "      <td>2.000000</td>\n",
              "      <td>14.900000</td>\n",
              "      <td>8.000000</td>\n",
              "    </tr>\n",
              "  </tbody>\n",
              "</table>\n",
              "</div>"
            ],
            "text/plain": [
              "       fixed acidity  volatile acidity  ...      alcohol      quality\n",
              "count    1199.000000       1199.000000  ...  1199.000000  1199.000000\n",
              "mean        8.625271          0.519133  ...    10.383069     5.664721\n",
              "std         1.781795          0.179208  ...     1.091891     0.809593\n",
              "min         4.600000          0.120000  ...     8.400000     3.000000\n",
              "25%         7.300000          0.390000  ...     9.500000     5.000000\n",
              "50%         8.300000          0.500000  ...    10.000000     6.000000\n",
              "75%         9.600000          0.630000  ...    11.000000     6.000000\n",
              "max        15.900000          1.330000  ...    14.900000     8.000000\n",
              "\n",
              "[8 rows x 12 columns]"
            ]
          },
          "metadata": {
            "tags": []
          },
          "execution_count": 4
        }
      ]
    },
    {
      "cell_type": "code",
      "metadata": {
        "id": "wUeQi-VBNzNG",
        "colab_type": "code",
        "colab": {
          "base_uri": "https://localhost:8080/",
          "height": 351
        },
        "outputId": "92376cd3-3c9d-4b70-9d3a-83eb5e6144c3"
      },
      "source": [
        "# Hiển thị thông tin thuộc tính từng cột dữ liệu\n",
        "df.info()"
      ],
      "execution_count": 5,
      "outputs": [
        {
          "output_type": "stream",
          "text": [
            "<class 'pandas.core.frame.DataFrame'>\n",
            "RangeIndex: 1199 entries, 0 to 1198\n",
            "Data columns (total 12 columns):\n",
            " #   Column                Non-Null Count  Dtype  \n",
            "---  ------                --------------  -----  \n",
            " 0   fixed acidity         1199 non-null   float64\n",
            " 1   volatile acidity      1199 non-null   float64\n",
            " 2   citric acid           1199 non-null   float64\n",
            " 3   residual sugar        1199 non-null   float64\n",
            " 4   chlorides             1199 non-null   float64\n",
            " 5   free sulfur dioxide   1199 non-null   float64\n",
            " 6   total sulfur dioxide  1199 non-null   int64  \n",
            " 7   density               1199 non-null   float64\n",
            " 8   pH                    1199 non-null   float64\n",
            " 9   sulphates             1199 non-null   float64\n",
            " 10  alcohol               1199 non-null   float64\n",
            " 11  quality               1199 non-null   int64  \n",
            "dtypes: float64(10), int64(2)\n",
            "memory usage: 112.5 KB\n"
          ],
          "name": "stdout"
        }
      ]
    },
    {
      "cell_type": "code",
      "metadata": {
        "id": "sk9riPXQN7Vm",
        "colab_type": "code",
        "colab": {
          "base_uri": "https://localhost:8080/",
          "height": 140
        },
        "outputId": "8fb039c4-c89e-40a8-a7b1-59866bcee97c"
      },
      "source": [
        "# Đếm số lượng giá trị ở cột quality\n",
        "df['quality'].value_counts()"
      ],
      "execution_count": 6,
      "outputs": [
        {
          "output_type": "execute_result",
          "data": {
            "text/plain": [
              "5    513\n",
              "6    463\n",
              "7    170\n",
              "4     35\n",
              "8     13\n",
              "3      5\n",
              "Name: quality, dtype: int64"
            ]
          },
          "metadata": {
            "tags": []
          },
          "execution_count": 6
        }
      ]
    },
    {
      "cell_type": "code",
      "metadata": {
        "id": "N2h1Yq8qJHyF",
        "colab_type": "code",
        "colab": {}
      },
      "source": [
        "# Đọc thông tin dữ liệu. Lấy 11 thuộc tính làm dữ liệu train, cột cuối cùng là nhãn dự đoán\n",
        "\n",
        "X_data = df.iloc[:,:-1].values\n",
        "y_data = df.iloc[:,-1].values\n",
        "bias = np.ones(X_data.shape[0])\n",
        "bias = np.resize(bias, (1, X_data.shape[0]))\n",
        "X_data = np.concatenate((X_data, bias.T), axis=1)\n"
      ],
      "execution_count": 7,
      "outputs": []
    },
    {
      "cell_type": "code",
      "metadata": {
        "id": "kDV67_c-Jkir",
        "colab_type": "code",
        "colab": {
          "base_uri": "https://localhost:8080/",
          "height": 369
        },
        "outputId": "c633857a-1314-45a6-b3ec-5ad3a2f172c7"
      },
      "source": [
        "# Hiển thị ví dụ\n",
        "for index,item in enumerate(X_data[0:5]):\n",
        "    print(\"X: \" +  str(item))\n",
        "    print(\"y: \" + str(y_data[index]))\n",
        "    print(len(item))"
      ],
      "execution_count": 8,
      "outputs": [
        {
          "output_type": "stream",
          "text": [
            "X: [ 7.4     0.7     0.      1.9     0.076  11.     34.      0.9978  3.51\n",
            "  0.56    9.4     1.    ]\n",
            "y: 5\n",
            "12\n",
            "X: [ 7.8     0.88    0.      2.6     0.098  25.     67.      0.9968  3.2\n",
            "  0.68    9.8     1.    ]\n",
            "y: 5\n",
            "12\n",
            "X: [7.80e+00 7.60e-01 4.00e-02 2.30e+00 9.20e-02 1.50e+01 5.40e+01 9.97e-01\n",
            " 3.26e+00 6.50e-01 9.80e+00 1.00e+00]\n",
            "y: 5\n",
            "12\n",
            "X: [11.2    0.28   0.56   1.9    0.075 17.    60.     0.998  3.16   0.58\n",
            "  9.8    1.   ]\n",
            "y: 6\n",
            "12\n",
            "X: [ 7.4     0.7     0.      1.9     0.076  11.     34.      0.9978  3.51\n",
            "  0.56    9.4     1.    ]\n",
            "y: 5\n",
            "12\n"
          ],
          "name": "stdout"
        }
      ]
    },
    {
      "cell_type": "code",
      "metadata": {
        "id": "4Nz2Ec2bZ8Mu",
        "colab_type": "code",
        "colab": {}
      },
      "source": [
        "# Hàm chuẩn hóa dữ liệu\n",
        "def scale_data(X_data):\n",
        "    X_data = X_data-np.mean(X_data, axis=0)\n",
        "    sd = np.std(X_data, axis=0)\n",
        "    return X_data/sd\n",
        "#X_data = scale_data(X_data)"
      ],
      "execution_count": 9,
      "outputs": []
    },
    {
      "cell_type": "code",
      "metadata": {
        "id": "0oBQ4Wh8KR-E",
        "colab_type": "code",
        "colab": {
          "base_uri": "https://localhost:8080/",
          "height": 70
        },
        "outputId": "ede962a1-8ba2-4d9f-beca-c6fd5138eb4c"
      },
      "source": [
        "#Chia dữ liệu thành 2 tập train, và test\n",
        "def shuffle_split_data(X, y, split_rate = 80):\n",
        "    arr_rand = np.random.rand(X.shape[0])\n",
        "    split = arr_rand < np.percentile(arr_rand, split_rate)\n",
        "    X_train = X[split]\n",
        "    y_train = y[split]\n",
        "    X_test =  X[~split]\n",
        "    y_test = y[~split]\n",
        "    return X_train, y_train, X_test, y_test\n",
        "X_train, y_train, X_test, y_test = shuffle_split_data(X_data, y_data)\n",
        "print(\"Số lượng dữ liệu là:\")\n",
        "print(len(X_train),len(y_train))\n",
        "print(len(X_test),len(y_test))"
      ],
      "execution_count": 10,
      "outputs": [
        {
          "output_type": "stream",
          "text": [
            "Số lượng dữ liệu là:\n",
            "959 959\n",
            "240 240\n"
          ],
          "name": "stdout"
        }
      ]
    },
    {
      "cell_type": "code",
      "metadata": {
        "id": "6oKxa12FObLI",
        "colab_type": "code",
        "colab": {}
      },
      "source": [
        "# Hàm dự đoán kết quả\n",
        "def predict(theta,input):\n",
        "    predict_value = np.dot(input, theta)\n",
        "    return predict_value"
      ],
      "execution_count": 11,
      "outputs": []
    },
    {
      "cell_type": "code",
      "metadata": {
        "id": "1DzABbFaPWB4",
        "colab_type": "code",
        "colab": {
          "base_uri": "https://localhost:8080/",
          "height": 87
        },
        "outputId": "b9ab75e3-1207-43dc-ade9-c80c4087c7f3"
      },
      "source": [
        "# Ta có thể thay giá trị vòng lặp thì sẽ ra các giá trị khác nhau. nên thử nghiệm các giá trị khác nhau để biết\n",
        "def linear_regression(X_train,y_train):\n",
        "    theta = np.linalg.pinv(X_train) @ y_train\n",
        "    return theta\n",
        "\n",
        "# Câu a: Sử dụng 11 đặc trưng để tính giá trị theta\n",
        "theta = linear_regression(X_train,y_train)\n",
        "print(\"theta : \", theta)\n",
        "print(len(theta))"
      ],
      "execution_count": 12,
      "outputs": [
        {
          "output_type": "stream",
          "text": [
            "theta :  [ 4.87759274e-02 -1.14735125e+00 -2.75214334e-01  2.50632876e-02\n",
            " -1.38956054e+00  4.05905768e-03 -4.11906162e-03 -3.16416918e+01\n",
            " -2.55430940e-01  7.17838134e-01  2.70607728e-01  3.52083902e+01]\n",
            "12\n"
          ],
          "name": "stdout"
        }
      ]
    },
    {
      "cell_type": "code",
      "metadata": {
        "id": "MVZfoQMgR8vo",
        "colab_type": "code",
        "colab": {}
      },
      "source": [
        "y_pred = []\n",
        "for index in range(len(y_test)):\n",
        "    y_pred.append(predict(theta,X_test[index]))\n",
        "def calculate_score(y_test,y_pred):\n",
        "    sum_error = 0.0\n",
        "    for index in range(len(y_pred)):\n",
        "        #print('Giá trị đúng: ',y_test[index],' : Giá trị dự đoán ',y_pred[index])\n",
        "        sum_error += np.mean(abs(y_test[index] - y_pred[index]))\n",
        "    error = sum_error/len(y_pred)\n",
        "    return error\n",
        "error = calculate_score(y_test,y_pred)"
      ],
      "execution_count": 13,
      "outputs": []
    },
    {
      "cell_type": "code",
      "metadata": {
        "id": "BMJedpnrV4zW",
        "colab_type": "code",
        "colab": {
          "base_uri": "https://localhost:8080/",
          "height": 34
        },
        "outputId": "608f10a0-09fd-4a9b-d541-0e2d4724cbc0"
      },
      "source": [
        "print(\"Độ lỗi : \", error)"
      ],
      "execution_count": 14,
      "outputs": [
        {
          "output_type": "stream",
          "text": [
            "Độ lỗi :  0.488231491706842\n"
          ],
          "name": "stdout"
        }
      ]
    },
    {
      "cell_type": "code",
      "metadata": {
        "id": "yHqNH60mU-rT",
        "colab_type": "code",
        "colab": {
          "base_uri": "https://localhost:8080/",
          "height": 295
        },
        "outputId": "5cac2a5e-3328-4e81-d60d-8b83b2c49b2f"
      },
      "source": [
        "import matplotlib.pylab as plt\n",
        "y_pred = []\n",
        "for index in range(len(y_test)):\n",
        "    y_pred.append(predict(theta,X_test[index]))\n",
        "plt.scatter(y_test, y_pred)\n",
        "plt.xlabel('True Quality')\n",
        "plt.ylabel('Predicted Quality')\n",
        "plt.title('Predicted Quality Against True Quality ')\n",
        "plt.show()"
      ],
      "execution_count": 15,
      "outputs": [
        {
          "output_type": "display_data",
          "data": {
            "image/png": "[encoded data removed]",
            "text/plain": [
              "<Figure size 432x288 with 1 Axes>"
            ]
          },
          "metadata": {
            "tags": [],
            "needs_background": "light"
          }
        }
      ]
    },
    {
      "cell_type": "code",
      "metadata": {
        "id": "9_3JQapwd_xK",
        "colab_type": "code",
        "colab": {
          "base_uri": "https://localhost:8080/",
          "height": 670
        },
        "outputId": "0395886a-be3a-497c-9177-31d37eb72aae"
      },
      "source": [
        "# Đây là đoạn code sử dụng pp Cross Validation trên từng đặc trưng 1. Giá trị trung bình là giá trị cuối cùng. K ở đây chọn là 5.\n",
        "from sklearn.model_selection import KFold\n",
        "# from sklearn.metrics import mean_squared_error\n",
        "from math import sqrt\n",
        "\n",
        "n_split = 5\n",
        "kf = KFold(n_splits=n_split)\n",
        "\n",
        "list_output = []\n",
        "list_name = []\n",
        "for index,name in enumerate(df.columns[:-1]):\n",
        "    print(\"Đặc trưng: \", name)\n",
        "    list_name.append(name)\n",
        "    X_data = np.array(df[name])\n",
        "    X_data = X_data.reshape((X_data.shape[0], 1))\n",
        "    bias = X_data[:, X_data.shape[1]-1].reshape((X_data.shape[0], 1))\n",
        "    X_data = np.concatenate((X_data, bias), axis=1)\n",
        "\n",
        "    sum_mae = 0.0\n",
        "    for train_index, test_index in kf.split(X_data):\n",
        "        X_train, X_test = X_data[train_index], X_data[test_index]\n",
        "        y_train, y_test = y_data[train_index], y_data[test_index]\n",
        "\n",
        "        \n",
        "        theta = linear_regression(X_train,y_train)\n",
        "        y_pred = []\n",
        "        for id in range(len(y_test)):\n",
        "            y_pred.append(predict(theta,X_test[id]))\n",
        "        y_test = [item for item in y_test]\n",
        "      \n",
        "        mae = calculate_score(y_test,y_pred)\n",
        "        sum_mae += mae\n",
        "\n",
        "    print(\"Average MSE: \",sum_mae/n_split)\n",
        "    list_output.append(sum_mae/n_split)\n",
        "    print(\"-----------------------------------------------------------\")\n",
        "print(list_output)\n",
        "print(\"Đặc trưng có gia trị tốt nhất là : \", list_name[list_output.index(min(list_output))])\n",
        "print(\"Độ đo thấp nhất là : \", min(list_output))"
      ],
      "execution_count": 16,
      "outputs": [
        {
          "output_type": "stream",
          "text": [
            "Đặc trưng:  fixed acidity\n",
            "Average MSE:  1.0686682302438957\n",
            "-----------------------------------------------------------\n",
            "Đặc trưng:  volatile acidity\n",
            "Average MSE:  1.8352253038668593\n",
            "-----------------------------------------------------------\n",
            "Đặc trưng:  citric acid\n",
            "Average MSE:  2.605166745674363\n",
            "-----------------------------------------------------------\n",
            "Đặc trưng:  residual sugar\n",
            "Average MSE:  2.0192410577484696\n",
            "-----------------------------------------------------------\n",
            "Đặc trưng:  chlorides\n",
            "Average MSE:  2.0888991309672305\n",
            "-----------------------------------------------------------\n",
            "Đặc trưng:  free sulfur dioxide\n",
            "Average MSE:  2.8435722742148086\n",
            "-----------------------------------------------------------\n",
            "Đặc trưng:  total sulfur dioxide\n",
            "Average MSE:  3.1418468444880765\n",
            "-----------------------------------------------------------\n",
            "Đặc trưng:  density\n",
            "Average MSE:  0.7044857110838194\n",
            "-----------------------------------------------------------\n",
            "Đặc trưng:  pH\n",
            "Average MSE:  0.7269925651942659\n",
            "-----------------------------------------------------------\n",
            "Đặc trưng:  sulphates\n",
            "Average MSE:  1.0869988754802509\n",
            "-----------------------------------------------------------\n",
            "Đặc trưng:  alcohol\n",
            "Average MSE:  0.5476279559423002\n",
            "-----------------------------------------------------------\n",
            "[1.0686682302438957, 1.8352253038668593, 2.605166745674363, 2.0192410577484696, 2.0888991309672305, 2.8435722742148086, 3.1418468444880765, 0.7044857110838194, 0.7269925651942659, 1.0869988754802509, 0.5476279559423002]\n",
            "Đặc trưng có gia trị tốt nhất là :  alcohol\n",
            "Độ đo thấp nhất là :  0.5476279559423002\n"
          ],
          "name": "stdout"
        }
      ]
    },
    {
      "cell_type": "code",
      "metadata": {
        "id": "AmaApn2PMgLr",
        "colab_type": "code",
        "colab": {
          "base_uri": "https://localhost:8080/",
          "height": 87
        },
        "outputId": "6187a4b3-fe1e-466b-c78e-b971d78d29f3"
      },
      "source": [
        "# Question 3\n",
        "# Lựa chọn các đặc trưng sau đây làm mô hình. Dựa vào mô hình trên ta chọn 6 đặc trưng có độ lỗi thấp nhất chạy thử.\n",
        "# Tự thay thế thí nghiệm lựa chọn cho cái nào phù hợp. Thêm bớt thì chỗ features thì tuỳ.\n",
        "features = [\"volatile acidity\",\"chlorides\",\"residual sugar\",\"fixed acidity\",\"density\",\"pH\",\"alcohol\",\"quality\"]\n",
        "\n",
        "\n",
        "df_feature = pd.DataFrame(df, columns=features)\n",
        "X_data2 = df_feature.iloc[:,:-1].values\n",
        "y_data2 = df_feature.iloc[:,-1].values\n",
        "\n",
        "bias2 = np.ones(X_data2.shape[0])\n",
        "bias2 = np.resize(bias2, (1, X_data2.shape[0]))\n",
        "X_data2 = np.concatenate((X_data2, bias2.T), axis=1)\n",
        "\n",
        "\n",
        "X_train2, y_train2, X_test2, y_test2 = shuffle_split_data(X_data2, y_data2)\n",
        "print(\"Số lượng dữ liệu là:\")\n",
        "print(len(X_train2),len(y_train2))\n",
        "print(len(X_test2),len(y_test2))\n",
        "print(X_train2[0])"
      ],
      "execution_count": 17,
      "outputs": [
        {
          "output_type": "stream",
          "text": [
            "Số lượng dữ liệu là:\n",
            "959 959\n",
            "240 240\n",
            "[0.7    0.076  1.9    7.4    0.9978 3.51   9.4    1.    ]\n"
          ],
          "name": "stdout"
        }
      ]
    },
    {
      "cell_type": "code",
      "metadata": {
        "id": "esQzk2gbW7ms",
        "colab_type": "code",
        "colab": {
          "base_uri": "https://localhost:8080/",
          "height": 70
        },
        "outputId": "3821a2f8-bad7-40fd-e0a8-eb7a4b6a98c5"
      },
      "source": [
        "# Huấn luyện mô hình\n",
        "theta2 = linear_regression(X_train2,y_train2)\n",
        "print(theta2)\n",
        "# Dự đoán trên tập test\n",
        "y_pred2 = []\n",
        "for id in range(len(y_test2)):\n",
        "    y_pred2.append(predict(theta2,X_test2[id]))\n",
        "y_test2 = [item for item in y_test2]\n",
        "\n",
        "mse2 = calculate_score(y_test2,y_pred2)\n",
        "print(\"error: \",mse2)"
      ],
      "execution_count": 18,
      "outputs": [
        {
          "output_type": "stream",
          "text": [
            "[-1.07225035e+00 -5.84361319e-01  6.77647278e-03  3.60181215e-02\n",
            " -8.07829007e+00 -3.06464242e-01  3.53262903e-01  1.13461380e+01]\n",
            "error:  0.5583622074409094\n"
          ],
          "name": "stdout"
        }
      ]
    }
  ]
}